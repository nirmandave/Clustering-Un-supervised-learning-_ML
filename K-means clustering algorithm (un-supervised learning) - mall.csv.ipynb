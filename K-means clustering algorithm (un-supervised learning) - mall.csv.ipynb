{
 "cells": [
  {
   "cell_type": "markdown",
   "id": "fc92b0cf",
   "metadata": {},
   "source": [
    "# Unsupervised Learning"
   ]
  },
  {
   "cell_type": "code",
   "execution_count": 1,
   "id": "9a0fabfd",
   "metadata": {},
   "outputs": [
    {
     "data": {
      "text/plain": [
       "'\\nclustering\\n    1. K-means clustering algorithm\\n        here k = means no. of clusters and means = means how many pattern is given in dataset\\n'"
      ]
     },
     "execution_count": 1,
     "metadata": {},
     "output_type": "execute_result"
    }
   ],
   "source": [
    "'''\n",
    "clustering\n",
    "    1. K-means clustering algorithm\n",
    "        here k = means no. of clusters and means = means how many pattern is given in dataset\n",
    "    2. hierarchical clustering.\n",
    "        1. Agglomerative H. C. (bottom to top)\n",
    "        2. Divisive dr\n",
    "'''"
   ]
  },
  {
   "cell_type": "code",
   "execution_count": 2,
   "id": "eaad7cb1",
   "metadata": {},
   "outputs": [],
   "source": [
    "#importing basic library\n",
    "import numpy as np\n",
    "import pandas as pd\n",
    "import seaborn as sb\n",
    "import matplotlib.pyplot as plt\n",
    "import warnings\n",
    "warnings.filterwarnings(\"ignore\")"
   ]
  },
  {
   "cell_type": "code",
   "execution_count": 3,
   "id": "7865ec53",
   "metadata": {},
   "outputs": [
    {
     "data": {
      "text/html": [
       "<div>\n",
       "<style scoped>\n",
       "    .dataframe tbody tr th:only-of-type {\n",
       "        vertical-align: middle;\n",
       "    }\n",
       "\n",
       "    .dataframe tbody tr th {\n",
       "        vertical-align: top;\n",
       "    }\n",
       "\n",
       "    .dataframe thead th {\n",
       "        text-align: right;\n",
       "    }\n",
       "</style>\n",
       "<table border=\"1\" class=\"dataframe\">\n",
       "  <thead>\n",
       "    <tr style=\"text-align: right;\">\n",
       "      <th></th>\n",
       "      <th>INCOME</th>\n",
       "      <th>SPEND</th>\n",
       "    </tr>\n",
       "  </thead>\n",
       "  <tbody>\n",
       "    <tr>\n",
       "      <th>0</th>\n",
       "      <td>233</td>\n",
       "      <td>150</td>\n",
       "    </tr>\n",
       "    <tr>\n",
       "      <th>1</th>\n",
       "      <td>250</td>\n",
       "      <td>187</td>\n",
       "    </tr>\n",
       "    <tr>\n",
       "      <th>2</th>\n",
       "      <td>204</td>\n",
       "      <td>172</td>\n",
       "    </tr>\n",
       "    <tr>\n",
       "      <th>3</th>\n",
       "      <td>236</td>\n",
       "      <td>178</td>\n",
       "    </tr>\n",
       "    <tr>\n",
       "      <th>4</th>\n",
       "      <td>354</td>\n",
       "      <td>163</td>\n",
       "    </tr>\n",
       "  </tbody>\n",
       "</table>\n",
       "</div>"
      ],
      "text/plain": [
       "   INCOME  SPEND\n",
       "0     233    150\n",
       "1     250    187\n",
       "2     204    172\n",
       "3     236    178\n",
       "4     354    163"
      ]
     },
     "execution_count": 3,
     "metadata": {},
     "output_type": "execute_result"
    }
   ],
   "source": [
    "#laoding dataset mall.csv\n",
    "df=pd.read_csv(\"mall.csv\")\n",
    "df.head()"
   ]
  },
  {
   "cell_type": "code",
   "execution_count": 4,
   "id": "d5ad3238",
   "metadata": {},
   "outputs": [
    {
     "data": {
      "text/plain": [
       "INCOME    0\n",
       "SPEND     0\n",
       "dtype: int64"
      ]
     },
     "execution_count": 4,
     "metadata": {},
     "output_type": "execute_result"
    }
   ],
   "source": [
    "#checking null values\n",
    "df.isnull().sum()"
   ]
  },
  {
   "cell_type": "code",
   "execution_count": 5,
   "id": "3f3311aa",
   "metadata": {},
   "outputs": [
    {
     "data": {
      "text/plain": [
       "<AxesSubplot:>"
      ]
     },
     "execution_count": 5,
     "metadata": {},
     "output_type": "execute_result"
    },
    {
     "data": {
      "image/png": "[encoded data removed]",
      "text/plain": [
       "<Figure size 432x288 with 2 Axes>"
      ]
     },
     "metadata": {
      "needs_background": "light"
     },
     "output_type": "display_data"
    }
   ],
   "source": [
    "#visualizing null values\n",
    "sb.heatmap(df.isnull())"
   ]
  },
  {
   "cell_type": "code",
   "execution_count": 6,
   "id": "3603e11f",
   "metadata": {},
   "outputs": [
    {
     "data": {
      "text/plain": [
       "INCOME    int64\n",
       "SPEND     int64\n",
       "dtype: object"
      ]
     },
     "execution_count": 6,
     "metadata": {},
     "output_type": "execute_result"
    }
   ],
   "source": [
    "#cross checking with data types\n",
    "df.dtypes"
   ]
  },
  {
   "cell_type": "code",
   "execution_count": 7,
   "id": "8529d4dc",
   "metadata": {},
   "outputs": [
    {
     "data": {
      "text/plain": [
       "7"
      ]
     },
     "execution_count": 7,
     "metadata": {},
     "output_type": "execute_result"
    }
   ],
   "source": [
    "#checking duplicate values\n",
    "df.duplicated().sum()"
   ]
  },
  {
   "cell_type": "code",
   "execution_count": 8,
   "id": "4f96a1ec",
   "metadata": {},
   "outputs": [],
   "source": [
    "#removing duplicated values\n",
    "df.drop_duplicates(inplace=True)"
   ]
  },
  {
   "cell_type": "code",
   "execution_count": 9,
   "id": "2a770813",
   "metadata": {},
   "outputs": [
    {
     "data": {
      "text/plain": [
       "0"
      ]
     },
     "execution_count": 9,
     "metadata": {},
     "output_type": "execute_result"
    }
   ],
   "source": [
    "#again checking duplicated \n",
    "df.duplicated().sum()"
   ]
  },
  {
   "cell_type": "code",
   "execution_count": 10,
   "id": "90a879ed",
   "metadata": {},
   "outputs": [],
   "source": [
    "#select input \n",
    "X=df.copy()  #here copy() will store df as it is in X "
   ]
  },
  {
   "cell_type": "code",
   "execution_count": 11,
   "id": "447ab387",
   "metadata": {},
   "outputs": [],
   "source": [
    "#applying scaling to make data into 1 unit \n",
    "from sklearn.preprocessing import StandardScaler"
   ]
  },
  {
   "cell_type": "code",
   "execution_count": 12,
   "id": "0c13f884",
   "metadata": {},
   "outputs": [],
   "source": [
    "#creating object of standardscaler\n",
    "ss=StandardScaler()\n",
    "X=ss.fit_transform(X)"
   ]
  },
  {
   "cell_type": "code",
   "execution_count": 13,
   "id": "41300e88",
   "metadata": {},
   "outputs": [
    {
     "data": {
      "text/plain": [
       "array([[-0.26035663,  0.02186759],\n",
       "       [ 0.08910044,  1.62920884],\n",
       "       [-0.8564893 ,  0.97758401],\n",
       "       [-0.19868774,  1.23823394],\n",
       "       [ 2.22695551,  0.58660911],\n",
       "       [-1.10316488, -0.06501572],\n",
       "       [ 0.99357759,  0.15219256],\n",
       "       [ 0.35633233,  1.02102567],\n",
       "       [-0.95927079,  0.54316746],\n",
       "       [-1.59651605,  1.06446732],\n",
       "       [-0.13701884,  0.45628415],\n",
       "       [ 0.60300791, -0.45599062],\n",
       "       [ 0.41800122,  0.93414236],\n",
       "       [-0.71259521, -0.23878234],\n",
       "       [ 0.7674583 ,  0.54316746],\n",
       "       [-0.54814482,  0.36940083],\n",
       "       [ 1.93916733,  0.97758401],\n",
       "       [-0.40425073, -1.54203201],\n",
       "       [ 0.02743155,  0.93414236],\n",
       "       [-0.13701884,  0.06530925],\n",
       "       [-0.23980034,  0.4997258 ],\n",
       "       [-0.26035663,  1.2816756 ],\n",
       "       [-0.40425073,  1.23823394],\n",
       "       [-0.05479365, -0.54287393],\n",
       "       [-0.95927079,  1.23823394],\n",
       "       [ 1.15802798,  0.54316746],\n",
       "       [-0.69203891,  0.32595918],\n",
       "       [-1.45262196, -1.15105711],\n",
       "       [ 3.52200233,  0.32595918],\n",
       "       [-1.00038339,  0.1087509 ],\n",
       "       [-0.97982709,  0.80381739],\n",
       "       [-1.41150936, -0.41254897],\n",
       "       [-0.54814482,  1.6726505 ],\n",
       "       [ 0.56189531,  0.1087509 ],\n",
       "       [-0.67148261, -1.0641738 ],\n",
       "       [-1.41150936,  0.45628415],\n",
       "       [ 1.19914057,  0.8907007 ],\n",
       "       [-0.28091293,  0.67349242],\n",
       "       [ 0.47967012, -0.06501572],\n",
       "       [ 2.3502933 ,  0.06530925],\n",
       "       [ 1.28136577, -0.32566565],\n",
       "       [-0.01368105,  1.32511726],\n",
       "       [-0.7742641 , -0.06501572],\n",
       "       [ 0.37688863, -0.282224  ],\n",
       "       [ 1.54859765,  1.41200057],\n",
       "       [ 1.63082285,  0.97758401],\n",
       "       [-0.21924404,  1.32511726],\n",
       "       [ 0.23299453,  0.28251752],\n",
       "       [-0.60981371, -1.49859035],\n",
       "       [-0.23980034,  0.45628415],\n",
       "       [ 0.21243824, -0.02157407],\n",
       "       [ 1.15802798,  0.06530925],\n",
       "       [-0.30146923, -0.15189903],\n",
       "       [-2.15153612,  1.10790898],\n",
       "       [ 0.13021304,  0.97758401],\n",
       "       [-0.91815819,  0.36940083],\n",
       "       [-0.48647592,  1.58576719],\n",
       "       [ 0.29466343,  1.54232553],\n",
       "       [-1.30872787,  1.06446732],\n",
       "       [ 1.17858428,  0.41284249],\n",
       "       [ 0.39744492, -0.84696552],\n",
       "       [ 1.30192207,  0.28251752],\n",
       "       [-1.22650267,  1.75953381],\n",
       "       [-0.8770456 , -0.76008221],\n",
       "       [-0.71259521,  0.67349242],\n",
       "       [-1.28817157,  1.41200057],\n",
       "       [-0.48647592, -0.282224  ],\n",
       "       [-0.23980034,  1.10790898],\n",
       "       [-0.52758852,  0.8907007 ],\n",
       "       [-0.7537078 ,  0.58660911],\n",
       "       [ 0.25355083, -0.10845738],\n",
       "       [-0.38369443,  0.19563421],\n",
       "       [-0.8564893 ,  2.28083368],\n",
       "       [ 0.31521973,  1.58576719],\n",
       "       [-0.67148261,  0.67349242],\n",
       "       [ 0.08910044,  0.4997258 ],\n",
       "       [-0.01368105,  0.71693408],\n",
       "       [-0.50703222,  0.63005077],\n",
       "       [-0.835933  ,  1.49888388],\n",
       "       [-0.11646254,  0.19563421],\n",
       "       [ 0.08910044,  1.2816756 ],\n",
       "       [ 1.28136577,  0.8907007 ],\n",
       "       [ 1.48692876,  0.45628415],\n",
       "       [ 1.07580278,  1.23823394],\n",
       "       [ 0.39744492, -1.19449876],\n",
       "       [ 0.37688863,  0.45628415],\n",
       "       [ 0.64412051,  0.06530925],\n",
       "       [-1.00038339,  0.28251752],\n",
       "       [-0.65092631,  0.36940083],\n",
       "       [ 0.04798785, -1.19449876],\n",
       "       [ 0.19188194,  1.10790898],\n",
       "       [-0.7948204 ,  0.80381739],\n",
       "       [-0.46591962,  0.84725905],\n",
       "       [ 0.87023979,  0.41284249],\n",
       "       [-1.76096644, -0.49943228],\n",
       "       [-0.40425073, -1.67235698],\n",
       "       [ 3.04920746,  0.32595918],\n",
       "       [-0.26035663, -0.10845738],\n",
       "       [ 1.42525986,  0.54316746],\n",
       "       [ 0.00687525,  1.02102567],\n",
       "       [-0.03423735,  1.23823394],\n",
       "       [ 0.50022642, -0.19534069],\n",
       "       [-1.04149599,  1.2816756 ],\n",
       "       [-0.11646254,  1.93330043],\n",
       "       [-1.02093969,  0.58660911],\n",
       "       [-0.71259521, -1.49859035],\n",
       "       [-0.23980034, -0.80352386],\n",
       "       [-0.19868774,  0.1087509 ],\n",
       "       [-0.03423735,  0.54316746],\n",
       "       [ 0.17132564,  0.41284249],\n",
       "       [ 1.63082285,  0.19563421],\n",
       "       [-2.4598806 ,  1.02102567],\n",
       "       [ 1.38414726, -0.71664055],\n",
       "       [-0.71259521,  0.4997258 ],\n",
       "       [ 0.33577603,  0.23907587],\n",
       "       [-0.63037001,  0.8907007 ],\n",
       "       [-0.65092631,  0.80381739],\n",
       "       [-1.08260858,  0.54316746],\n",
       "       [-0.05479365,  0.1087509 ],\n",
       "       [ 1.17858428, -1.19449876],\n",
       "       [ 0.52078272,  1.41200057],\n",
       "       [ 0.45911382,  0.97758401],\n",
       "       [ 0.43855752,  0.76037573],\n",
       "       [-0.95927079,  1.2816756 ],\n",
       "       [-0.73315151,  1.84641712],\n",
       "       [-0.8564893 , -0.282224  ],\n",
       "       [ 0.64412051,  0.97758401],\n",
       "       [-1.02093969,  0.84725905],\n",
       "       [ 0.47967012, -1.23794042],\n",
       "       [-0.91815819,  0.58660911],\n",
       "       [ 0.52078272,  0.54316746],\n",
       "       [ 1.01413389,  0.54316746],\n",
       "       [-0.21924404,  0.15219256],\n",
       "       [ 1.24025317,  0.58660911],\n",
       "       [ 0.47967012,  0.58660911],\n",
       "       [-1.39095306, -2.32398181],\n",
       "       [-0.7742641 , -0.41254897],\n",
       "       [-0.91815819, -1.02073214],\n",
       "       [ 0.35633233, -1.93300691],\n",
       "       [ 1.01413389,  0.32595918],\n",
       "       [ 1.17858428,  1.36855891],\n",
       "       [-0.7537078 ,  1.02102567],\n",
       "       [-0.46591962, -0.32566565],\n",
       "       [-1.00038339, -1.4551487 ],\n",
       "       [-0.01368105, -0.282224  ],\n",
       "       [-0.07534995, -0.02157407],\n",
       "       [-0.11646254,  0.93414236],\n",
       "       [-0.40425073,  0.84725905],\n",
       "       [-1.34984047,  0.02186759],\n",
       "       [-0.36313813, -0.49943228],\n",
       "       [-1.98708573, -1.0641738 ],\n",
       "       [-0.38369443,  0.23907587],\n",
       "       [ 0.66467681,  0.1087509 ],\n",
       "       [-0.52758852,  0.1087509 ],\n",
       "       [-1.00038339, -0.80352386],\n",
       "       [ 0.15076934,  1.2816756 ],\n",
       "       [-1.10316488,  1.06446732],\n",
       "       [-0.52758852, -0.23878234],\n",
       "       [-0.50703222,  0.58660911],\n",
       "       [-0.11646254,  0.84725905],\n",
       "       [ 1.98027993,  0.71693408],\n",
       "       [-1.82263534,  1.41200057],\n",
       "       [-1.45262196,  1.02102567],\n",
       "       [ 0.8291272 , -1.80268194],\n",
       "       [-0.34258183, -0.89040718],\n",
       "       [ 0.45911382,  0.45628415],\n",
       "       [ 0.17132564, -0.10845738],\n",
       "       [-0.8770456 ,  0.23907587],\n",
       "       [ 0.21243824, -0.32566565],\n",
       "       [-0.34258183,  0.80381739],\n",
       "       [ 0.7880146 ,  0.45628415],\n",
       "       [-0.44536332,  1.02102567],\n",
       "       [-0.8153767 , -0.76008221],\n",
       "       [-1.61707235, -1.54203201],\n",
       "       [-0.32202553,  0.45628415],\n",
       "       [ 1.83638583,  0.36940083],\n",
       "       [-1.41150936, -1.28138208],\n",
       "       [ 0.62356421, -1.62891532],\n",
       "       [ 2.20639921, -0.76008221],\n",
       "       [-0.42480702, -1.54203201],\n",
       "       [ 1.73360434,  0.84725905],\n",
       "       [-0.32202553,  0.67349242],\n",
       "       [-0.05479365, -0.93384883],\n",
       "       [ 0.91135239,  0.15219256],\n",
       "       [ 0.15076934, -0.23878234],\n",
       "       [ 0.41800122, -1.75924029],\n",
       "       [-0.26035663,  0.58660911],\n",
       "       [-1.51429086,  0.36940083],\n",
       "       [ 1.21969687, -0.32566565],\n",
       "       [-0.60981371, -0.80352386],\n",
       "       [-1.18539008, -1.58547366],\n",
       "       [ 0.746902  , -0.32566565],\n",
       "       [-1.24705897,  0.23907587],\n",
       "       [ 1.65137915, -0.41254897],\n",
       "       [-0.30146923, -0.10845738],\n",
       "       [ 0.17132564,  0.58660911],\n",
       "       [ 0.43855752, -2.19365684],\n",
       "       [ 0.04798785,  0.36940083],\n",
       "       [-1.00038339,  1.19479229],\n",
       "       [ 0.25355083, -0.36910731],\n",
       "       [ 0.50022642, -1.67235698],\n",
       "       [ 0.58245161,  0.02186759],\n",
       "       [-1.67874125, -0.19534069],\n",
       "       [ 0.19188194,  0.4997258 ],\n",
       "       [-0.13701884, -0.32566565],\n",
       "       [ 0.25355083,  0.32595918],\n",
       "       [-1.18539008, -0.45599062],\n",
       "       [-1.41150936,  0.54316746],\n",
       "       [-0.34258183,  0.02186759],\n",
       "       [ 0.29466343, -0.41254897],\n",
       "       [-0.54814482, -0.41254897],\n",
       "       [ 1.26080947, -0.15189903],\n",
       "       [ 0.06854414, -0.23878234],\n",
       "       [ 1.95972363, -0.58631559],\n",
       "       [ 0.35633233, -2.28054015],\n",
       "       [ 1.73360434, -0.76008221],\n",
       "       [ 0.17132564, -0.97729049],\n",
       "       [ 0.21243824,  0.02186759],\n",
       "       [ 3.31643934,  0.19563421],\n",
       "       [-0.58925741, -1.67235698],\n",
       "       [ 0.746902  ,  1.06446732],\n",
       "       [ 0.87023979, -0.71664055],\n",
       "       [-0.13701884, -1.02073214],\n",
       "       [-1.47317826, -1.0641738 ],\n",
       "       [ 0.7263457 , -2.01989022],\n",
       "       [-0.97982709, -0.84696552],\n",
       "       [ 1.30192207, -0.80352386],\n",
       "       [ 0.89079609, -1.10761545],\n",
       "       [ 0.89079609, -0.19534069],\n",
       "       [ 0.00687525, -2.32398181],\n",
       "       [ 1.56915395, -1.75924029],\n",
       "       [ 1.09635908,  1.02102567],\n",
       "       [ 1.11691538,  0.93414236],\n",
       "       [ 0.97302129,  0.8907007 ],\n",
       "       [ 1.19914057,  0.54316746],\n",
       "       [ 0.746902  ,  0.28251752],\n",
       "       [ 0.47967012, -1.62891532],\n",
       "       [ 0.06854414, -0.282224  ],\n",
       "       [-0.69203891, -0.76008221],\n",
       "       [ 0.58245161, -2.67151505],\n",
       "       [-1.26761527, -1.93300691],\n",
       "       [ 0.58245161,  0.71693408],\n",
       "       [ 3.35755194,  0.02186759],\n",
       "       [ 0.00687525, -1.28138208],\n",
       "       [ 0.7674583 ,  1.97674209],\n",
       "       [ 0.17132564, -0.15189903],\n",
       "       [ 1.07580278, -1.19449876],\n",
       "       [ 0.02743155, -0.282224  ],\n",
       "       [ 0.99357759, -1.88956525],\n",
       "       [ 1.09635908, -1.0641738 ],\n",
       "       [ 0.56189531, -1.0641738 ],\n",
       "       [ 1.30192207, -0.10845738],\n",
       "       [ 0.27410713, -0.84696552],\n",
       "       [-0.93871449, -1.02073214],\n",
       "       [-0.03423735,  0.19563421],\n",
       "       [-0.30146923,  1.41200057],\n",
       "       [-0.36313813,  0.67349242],\n",
       "       [ 0.746902  , -2.36742346],\n",
       "       [ 0.47967012,  0.84725905],\n",
       "       [-0.8153767 , -1.80268194],\n",
       "       [ 1.67193545, -1.41170704],\n",
       "       [-1.98708573, -1.02073214],\n",
       "       [ 0.8291272 , -1.4551487 ],\n",
       "       [ 0.7674583 , -2.01989022],\n",
       "       [-0.23980034, -0.19534069],\n",
       "       [-0.17813144, -3.4100232 ],\n",
       "       [-0.23980034,  0.28251752],\n",
       "       [ 0.60300791, -1.36826539],\n",
       "       [-0.69203891,  0.80381739],\n",
       "       [-0.56870112, -1.93300691],\n",
       "       [ 0.31521973, -0.36910731],\n",
       "       [ 1.50748506,  0.1087509 ],\n",
       "       [-1.63762865, -1.0641738 ],\n",
       "       [ 1.42525986, -1.0641738 ],\n",
       "       [-0.8564893 ,  0.28251752],\n",
       "       [-0.56870112, -0.6731989 ],\n",
       "       [-0.46591962,  1.36855891],\n",
       "       [-0.7948204 , -0.49943228],\n",
       "       [ 1.34303467, -1.28138208],\n",
       "       [-0.8564893 ,  0.54316746],\n",
       "       [-0.28091293,  0.63005077],\n",
       "       [ 1.83638583, -0.282224  ],\n",
       "       [-0.835933  , -0.84696552],\n",
       "       [-0.8770456 ,  0.4997258 ],\n",
       "       [ 1.48692876, -0.41254897],\n",
       "       [-0.42480702, -0.15189903],\n",
       "       [-0.69203891,  0.02186759],\n",
       "       [-1.57595975, -0.23878234],\n",
       "       [-1.20594638, -0.23878234],\n",
       "       [-1.00038339, -0.58631559],\n",
       "       [-1.43206566, -2.58463174],\n",
       "       [-0.09590625, -1.15105711],\n",
       "       [ 0.37688863, -0.76008221],\n",
       "       [-1.08260858, -0.36910731],\n",
       "       [-2.3570991 , -1.49859035],\n",
       "       [-0.19868774,  1.06446732]])"
      ]
     },
     "execution_count": 13,
     "metadata": {},
     "output_type": "execute_result"
    }
   ],
   "source": [
    "X"
   ]
  },
  {
   "cell_type": "code",
   "execution_count": 14,
   "id": "e948b5e2",
   "metadata": {},
   "outputs": [
    {
     "data": {
      "image/png": "[encoded data removed]",
      "text/plain": [
       "<Figure size 432x288 with 1 Axes>"
      ]
     },
     "metadata": {
      "needs_background": "light"
     },
     "output_type": "display_data"
    }
   ],
   "source": [
    "#creating scater plot between income and spend\n",
    "sb.scatterplot(data=df,x=\"INCOME\",y=\"SPEND\")\n",
    "plt.show()"
   ]
  },
  {
   "cell_type": "code",
   "execution_count": 15,
   "id": "fee08502",
   "metadata": {},
   "outputs": [],
   "source": [
    "#here we cant identify no. of clusters in data set \n",
    "#so now we will use Elbow Technique to identify the no. of clusters in data set \n",
    "#i.e. K in given data"
   ]
  },
  {
   "cell_type": "code",
   "execution_count": 16,
   "id": "825a9b00",
   "metadata": {},
   "outputs": [],
   "source": [
    "#calling in-built class KMeans and this class is in package sklearn\n",
    "from sklearn.cluster import KMeans"
   ]
  },
  {
   "cell_type": "code",
   "execution_count": 17,
   "id": "f5bd3e6c",
   "metadata": {},
   "outputs": [],
   "source": [
    "#using Elbow method,\n",
    "#suppose we assume total 20 clusters\n",
    "k_range=range(1,21) #start = 1, stop = 21-1=20, step = 1 \n",
    "\n",
    "#declaring empty list for sum of squared error \n",
    "sse=[]  \n",
    "\n",
    "#declaring empty list for value of k\n",
    "k_cluster=[]\n",
    "\n",
    "for k in k_range:\n",
    "    #creating object of KMeans\n",
    "    km=KMeans(n_clusters=k,random_state=1)   #here n_cluster is in-built parameter to take value of k\n",
    "    #train the model - using inbuilt method fit() method of KMeans\n",
    "    km.fit(X)\n",
    "    #sum of squared error  - inbuilt method inertia_ which is defined in KMeans class\n",
    "    #formula of SSE = sum(centerpoint - datapoints)^2\n",
    "    #to add inertia_ for each value of k\n",
    "    sse.append(km.inertia_)\n",
    "    #to add value of k in K_cluster list \n",
    "    k_cluster.append(k)\n",
    "\n",
    "\n"
   ]
  },
  {
   "cell_type": "code",
   "execution_count": 18,
   "id": "fcef63ba",
   "metadata": {},
   "outputs": [
    {
     "data": {
      "text/html": [
       "<div>\n",
       "<style scoped>\n",
       "    .dataframe tbody tr th:only-of-type {\n",
       "        vertical-align: middle;\n",
       "    }\n",
       "\n",
       "    .dataframe tbody tr th {\n",
       "        vertical-align: top;\n",
       "    }\n",
       "\n",
       "    .dataframe thead th {\n",
       "        text-align: right;\n",
       "    }\n",
       "</style>\n",
       "<table border=\"1\" class=\"dataframe\">\n",
       "  <thead>\n",
       "    <tr style=\"text-align: right;\">\n",
       "      <th></th>\n",
       "      <th>K</th>\n",
       "      <th>SSE</th>\n",
       "    </tr>\n",
       "  </thead>\n",
       "  <tbody>\n",
       "    <tr>\n",
       "      <th>0</th>\n",
       "      <td>1</td>\n",
       "      <td>592.000000</td>\n",
       "    </tr>\n",
       "    <tr>\n",
       "      <th>1</th>\n",
       "      <td>2</td>\n",
       "      <td>391.315497</td>\n",
       "    </tr>\n",
       "    <tr>\n",
       "      <th>2</th>\n",
       "      <td>3</td>\n",
       "      <td>247.292367</td>\n",
       "    </tr>\n",
       "    <tr>\n",
       "      <th>3</th>\n",
       "      <td>4</td>\n",
       "      <td>193.836346</td>\n",
       "    </tr>\n",
       "    <tr>\n",
       "      <th>4</th>\n",
       "      <td>5</td>\n",
       "      <td>152.315673</td>\n",
       "    </tr>\n",
       "    <tr>\n",
       "      <th>5</th>\n",
       "      <td>6</td>\n",
       "      <td>128.583208</td>\n",
       "    </tr>\n",
       "    <tr>\n",
       "      <th>6</th>\n",
       "      <td>7</td>\n",
       "      <td>112.561278</td>\n",
       "    </tr>\n",
       "    <tr>\n",
       "      <th>7</th>\n",
       "      <td>8</td>\n",
       "      <td>99.538230</td>\n",
       "    </tr>\n",
       "    <tr>\n",
       "      <th>8</th>\n",
       "      <td>9</td>\n",
       "      <td>89.071835</td>\n",
       "    </tr>\n",
       "    <tr>\n",
       "      <th>9</th>\n",
       "      <td>10</td>\n",
       "      <td>78.962854</td>\n",
       "    </tr>\n",
       "    <tr>\n",
       "      <th>10</th>\n",
       "      <td>11</td>\n",
       "      <td>70.863569</td>\n",
       "    </tr>\n",
       "    <tr>\n",
       "      <th>11</th>\n",
       "      <td>12</td>\n",
       "      <td>66.124090</td>\n",
       "    </tr>\n",
       "    <tr>\n",
       "      <th>12</th>\n",
       "      <td>13</td>\n",
       "      <td>60.326580</td>\n",
       "    </tr>\n",
       "    <tr>\n",
       "      <th>13</th>\n",
       "      <td>14</td>\n",
       "      <td>55.952754</td>\n",
       "    </tr>\n",
       "    <tr>\n",
       "      <th>14</th>\n",
       "      <td>15</td>\n",
       "      <td>50.419983</td>\n",
       "    </tr>\n",
       "    <tr>\n",
       "      <th>15</th>\n",
       "      <td>16</td>\n",
       "      <td>47.797029</td>\n",
       "    </tr>\n",
       "    <tr>\n",
       "      <th>16</th>\n",
       "      <td>17</td>\n",
       "      <td>44.888834</td>\n",
       "    </tr>\n",
       "    <tr>\n",
       "      <th>17</th>\n",
       "      <td>18</td>\n",
       "      <td>41.676197</td>\n",
       "    </tr>\n",
       "    <tr>\n",
       "      <th>18</th>\n",
       "      <td>19</td>\n",
       "      <td>39.417068</td>\n",
       "    </tr>\n",
       "    <tr>\n",
       "      <th>19</th>\n",
       "      <td>20</td>\n",
       "      <td>37.216755</td>\n",
       "    </tr>\n",
       "  </tbody>\n",
       "</table>\n",
       "</div>"
      ],
      "text/plain": [
       "     K         SSE\n",
       "0    1  592.000000\n",
       "1    2  391.315497\n",
       "2    3  247.292367\n",
       "3    4  193.836346\n",
       "4    5  152.315673\n",
       "5    6  128.583208\n",
       "6    7  112.561278\n",
       "7    8   99.538230\n",
       "8    9   89.071835\n",
       "9   10   78.962854\n",
       "10  11   70.863569\n",
       "11  12   66.124090\n",
       "12  13   60.326580\n",
       "13  14   55.952754\n",
       "14  15   50.419983\n",
       "15  16   47.797029\n",
       "16  17   44.888834\n",
       "17  18   41.676197\n",
       "18  19   39.417068\n",
       "19  20   37.216755"
      ]
     },
     "execution_count": 18,
     "metadata": {},
     "output_type": "execute_result"
    }
   ],
   "source": [
    "#creating dictionary to store sse and K_cluster\n",
    "dict={\"K\":k_cluster,\"SSE\":sse}\n",
    "#converting dictionary into dataframe\n",
    "df1=pd.DataFrame(dict)\n",
    "df1"
   ]
  },
  {
   "cell_type": "code",
   "execution_count": 19,
   "id": "935461b7",
   "metadata": {},
   "outputs": [
    {
     "data": {
      "image/png": "[encoded data removed]",
      "text/plain": [
       "<Figure size 432x288 with 1 Axes>"
      ]
     },
     "metadata": {
      "needs_background": "light"
     },
     "output_type": "display_data"
    }
   ],
   "source": [
    "#creating scatter plot to visualize K and SSE\n",
    "sb.scatterplot(data=df1,x=\"K\",y=\"SSE\")\n",
    "sb.lineplot(data=df1,x=\"K\",y=\"SSE\",color=\"green\")\n",
    "plt.xticks(k_range)\n",
    "plt.show()"
   ]
  },
  {
   "cell_type": "code",
   "execution_count": 20,
   "id": "f51bb83d",
   "metadata": {},
   "outputs": [],
   "source": [
    "#here we can clearly understand the no. of cluster in given data set is 5 according to elbow method\n",
    "#now creating object of KMeans class\n",
    "km=KMeans(n_clusters=5,random_state=1)"
   ]
  },
  {
   "cell_type": "code",
   "execution_count": 21,
   "id": "826c4304",
   "metadata": {},
   "outputs": [],
   "source": [
    "#train and predict  - use inbuilt method fit_predict() od KMeans class\n",
    "Y_pred=km.fit_predict(X)"
   ]
  },
  {
   "cell_type": "code",
   "execution_count": 22,
   "id": "93012e79",
   "metadata": {},
   "outputs": [],
   "source": [
    "#adding new column in existing dataset \n",
    "df['Target']=Y_pred\n",
    "#df.head(10)\n",
    "#creating object of standardscaler class\n",
    "ss=StandardScaler()\n",
    "df['INCOME']=ss.fit_transform(df[['INCOME']])\n",
    "df['SPEND']=ss.fit_transform(df[['SPEND']])"
   ]
  },
  {
   "cell_type": "code",
   "execution_count": 23,
   "id": "cd067ddf",
   "metadata": {},
   "outputs": [
    {
     "data": {
      "text/html": [
       "<div>\n",
       "<style scoped>\n",
       "    .dataframe tbody tr th:only-of-type {\n",
       "        vertical-align: middle;\n",
       "    }\n",
       "\n",
       "    .dataframe tbody tr th {\n",
       "        vertical-align: top;\n",
       "    }\n",
       "\n",
       "    .dataframe thead th {\n",
       "        text-align: right;\n",
       "    }\n",
       "</style>\n",
       "<table border=\"1\" class=\"dataframe\">\n",
       "  <thead>\n",
       "    <tr style=\"text-align: right;\">\n",
       "      <th></th>\n",
       "      <th>INCOME</th>\n",
       "      <th>SPEND</th>\n",
       "      <th>Target</th>\n",
       "    </tr>\n",
       "  </thead>\n",
       "  <tbody>\n",
       "    <tr>\n",
       "      <th>0</th>\n",
       "      <td>-0.260357</td>\n",
       "      <td>0.021868</td>\n",
       "      <td>1</td>\n",
       "    </tr>\n",
       "    <tr>\n",
       "      <th>1</th>\n",
       "      <td>0.089100</td>\n",
       "      <td>1.629209</td>\n",
       "      <td>4</td>\n",
       "    </tr>\n",
       "    <tr>\n",
       "      <th>2</th>\n",
       "      <td>-0.856489</td>\n",
       "      <td>0.977584</td>\n",
       "      <td>4</td>\n",
       "    </tr>\n",
       "    <tr>\n",
       "      <th>3</th>\n",
       "      <td>-0.198688</td>\n",
       "      <td>1.238234</td>\n",
       "      <td>4</td>\n",
       "    </tr>\n",
       "    <tr>\n",
       "      <th>4</th>\n",
       "      <td>2.226956</td>\n",
       "      <td>0.586609</td>\n",
       "      <td>0</td>\n",
       "    </tr>\n",
       "  </tbody>\n",
       "</table>\n",
       "</div>"
      ],
      "text/plain": [
       "     INCOME     SPEND  Target\n",
       "0 -0.260357  0.021868       1\n",
       "1  0.089100  1.629209       4\n",
       "2 -0.856489  0.977584       4\n",
       "3 -0.198688  1.238234       4\n",
       "4  2.226956  0.586609       0"
      ]
     },
     "execution_count": 23,
     "metadata": {},
     "output_type": "execute_result"
    }
   ],
   "source": [
    "df.head()"
   ]
  },
  {
   "cell_type": "code",
   "execution_count": 24,
   "id": "9f666fc0",
   "metadata": {},
   "outputs": [],
   "source": [
    "#creating 5 dataset according to cluster\n",
    "df0=df[df['Target']==0]\n",
    "df1=df[df['Target']==1]\n",
    "df2=df[df['Target']==2]\n",
    "df3=df[df['Target']==3]\n",
    "df4=df[df['Target']==4]"
   ]
  },
  {
   "cell_type": "code",
   "execution_count": 29,
   "id": "eec3b2cc",
   "metadata": {},
   "outputs": [
    {
     "data": {
      "image/png": "[encoded data removed]",
      "text/plain": [
       "<Figure size 432x288 with 1 Axes>"
      ]
     },
     "metadata": {
      "needs_background": "light"
     },
     "output_type": "display_data"
    }
   ],
   "source": [
    "#vosualizing all clusters\n",
    "sb.scatterplot(data=df0,x=\"INCOME\",y='SPEND',color='yellow',label='sensitive')\n",
    "sb.scatterplot(data=df1,x=\"INCOME\",y='SPEND',color='blue',label='carefull')\n",
    "sb.scatterplot(data=df2,x=\"INCOME\",y='SPEND',color='green',label='Ignore')\n",
    "sb.scatterplot(data=df3,x=\"INCOME\",y='SPEND',color='black',label='miser')\n",
    "sb.scatterplot(data=df4,x=\"INCOME\",y='SPEND',color='purple',label='Target')\n",
    "plt.scatter(km.cluster_centers_[:,0],km.cluster_centers_[:,1],c='red',s=100,marker='*')\n",
    "plt.show()"
   ]
  },
  {
   "cell_type": "code",
   "execution_count": 26,
   "id": "906100a5",
   "metadata": {},
   "outputs": [
    {
     "data": {
      "text/plain": [
       "array([[ 1.53097797,  0.33482482],\n",
       "       [ 0.08032976,  0.12554834],\n",
       "       [-1.04611067, -0.99324865],\n",
       "       [ 0.6135496 , -1.50081813],\n",
       "       [-0.63942457,  0.96879225]])"
      ]
     },
     "execution_count": 26,
     "metadata": {},
     "output_type": "execute_result"
    }
   ],
   "source": [
    "#to check centeroid for each clusters, we will use inbuilt method cluster_centers_\n",
    "km.cluster_centers_"
   ]
  },
  {
   "cell_type": "code",
   "execution_count": null,
   "id": "d3cf7a09",
   "metadata": {},
   "outputs": [],
   "source": []
  }
 ],
 "metadata": {
  "kernelspec": {
   "display_name": "Python 3 (ipykernel)",
   "language": "python",
   "name": "python3"
  },
  "language_info": {
   "codemirror_mode": {
    "name": "ipython",
    "version": 3
   },
   "file_extension": ".py",
   "mimetype": "text/x-python",
   "name": "python",
   "nbconvert_exporter": "python",
   "pygments_lexer": "ipython3",
   "version": "3.9.12"
  }
 },
 "nbformat": 4,
 "nbformat_minor": 5
}
